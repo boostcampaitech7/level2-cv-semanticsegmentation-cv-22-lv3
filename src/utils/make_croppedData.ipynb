{
 "cells": [
  {
   "cell_type": "code",
   "execution_count": 1,
   "metadata": {},
   "outputs": [
    {
     "name": "stderr",
     "output_type": "stream",
     "text": [
      "Processing Images: 100%|██████████| 800/800 [01:17<00:00, 10.32it/s]"
     ]
    },
    {
     "name": "stdout",
     "output_type": "stream",
     "text": [
      "모든 이미지와 JSON 파일의 크롭이 완료되었습니다.\n"
     ]
    },
    {
     "name": "stderr",
     "output_type": "stream",
     "text": [
      "\n"
     ]
    }
   ],
   "source": [
    "import os\n",
    "import cv2\n",
    "import json\n",
    "from tqdm import tqdm\n",
    "import shutil\n",
    "\n",
    "# 경로 설정\n",
    "train_data_path = '/data/ephemeral/home/data/train/DCM'\n",
    "json_data_path = '/data/ephemeral/home/data/train/outputs_json'\n",
    "crop_data_path_images = '/data/ephemeral/home/crop_data/DCM'\n",
    "crop_data_path_json = '/data/ephemeral/home/crop_data/outputs_json'\n",
    "\n",
    "# Crop 영역 정의 (예시)\n",
    "crop_x, crop_y, crop_w, crop_h = 700, 1000, 700, 850  # x, y, width, height\n",
    "\n",
    "# 크롭된 데이터 저장 디렉토리 생성\n",
    "os.makedirs(crop_data_path_images, exist_ok=True)\n",
    "os.makedirs(crop_data_path_json, exist_ok=True)\n",
    "\n",
    "# tqdm을 사용하여 전체 이미지 수 계산\n",
    "total_images = 0\n",
    "for folder in os.listdir(train_data_path):\n",
    "    folder_path = os.path.join(train_data_path, folder)\n",
    "    if not os.path.isdir(folder_path):\n",
    "        continue\n",
    "    for img_file in os.listdir(folder_path):\n",
    "        if img_file.lower().endswith(('.png', '.jpg', '.jpeg', '.dcm')):\n",
    "            total_images += 1\n",
    "\n",
    "# DCM 파일을 처리하기 위한 함수 (DICOM 지원 필요 시 pydicom 사용)\n",
    "def load_image(img_path):\n",
    "    if img_path.lower().endswith('.dcm'):\n",
    "        try:\n",
    "            import pydicom\n",
    "            ds = pydicom.dcmread(img_path)\n",
    "            image = ds.pixel_array\n",
    "            if len(image.shape) == 2:  # 그레이스케일\n",
    "                image = cv2.cvtColor(image, cv2.COLOR_GRAY2BGR)\n",
    "            else:  # 이미 컬러 이미지인 경우\n",
    "                image = cv2.cvtColor(image, cv2.COLOR_RGB2BGR)\n",
    "            return image\n",
    "        except Exception as e:\n",
    "            print(f\"Failed to load DCM image: {img_path}, Error: {e}\")\n",
    "            return None\n",
    "    else:\n",
    "        return cv2.imread(img_path)\n",
    "\n",
    "# 모든 이미지 처리\n",
    "with tqdm(total=total_images, desc=\"Processing Images\") as pbar:\n",
    "    for folder in os.listdir(train_data_path):\n",
    "        folder_path = os.path.join(train_data_path, folder)\n",
    "        if not os.path.isdir(folder_path):\n",
    "            continue\n",
    "\n",
    "        # 대응되는 JSON 폴더 경로\n",
    "        json_folder_path = os.path.join(json_data_path, folder)\n",
    "        if not os.path.exists(json_folder_path):\n",
    "            print(f\"JSON folder does not exist for folder: {folder}\")\n",
    "            continue\n",
    "\n",
    "        # 크롭된 이미지와 JSON을 저장할 서브폴더 생성\n",
    "        target_image_folder = os.path.join(crop_data_path_images, folder)\n",
    "        target_json_folder = os.path.join(crop_data_path_json, folder)\n",
    "        os.makedirs(target_image_folder, exist_ok=True)\n",
    "        os.makedirs(target_json_folder, exist_ok=True)\n",
    "\n",
    "        for img_file in os.listdir(folder_path):\n",
    "            if not img_file.lower().endswith(('.png', '.jpg', '.jpeg', '.dcm')):\n",
    "                pbar.update(1)\n",
    "                continue\n",
    "\n",
    "            img_path = os.path.join(folder_path, img_file)\n",
    "            image = load_image(img_path)\n",
    "            if image is None:\n",
    "                print(f\"Failed to load image: {img_path}\")\n",
    "                pbar.update(1)\n",
    "                continue\n",
    "\n",
    "            # 이미지 크롭\n",
    "            cropped_image = image[crop_y:crop_y + crop_h, crop_x:crop_x + crop_w]\n",
    "\n",
    "            # 대응되는 JSON 파일 경로 (동일한 서브폴더 내)\n",
    "            json_filename = os.path.splitext(img_file)[0] + '.json'\n",
    "            json_path = os.path.join(json_folder_path, json_filename)\n",
    "\n",
    "            if not os.path.exists(json_path):\n",
    "                print(f\"JSON file does not exist for image: {img_file}\")\n",
    "                pbar.update(1)\n",
    "                continue\n",
    "\n",
    "            # JSON 파일 로드\n",
    "            try:\n",
    "                with open(json_path, 'r') as f:\n",
    "                    json_data = json.load(f)\n",
    "            except Exception as e:\n",
    "                print(f\"Failed to load JSON file: {json_path}, Error: {e}\")\n",
    "                pbar.update(1)\n",
    "                continue\n",
    "\n",
    "            # JSON의 각 annotation의 points를 크롭에 맞게 조정\n",
    "            for annotation in json_data.get(\"annotations\", []):\n",
    "                if \"points\" in annotation:\n",
    "                    adjusted_points = []\n",
    "                    for point in annotation[\"points\"]:\n",
    "                        adjusted_x = point[0] - crop_x\n",
    "                        adjusted_y = point[1] - crop_y\n",
    "                        # 크롭된 이미지 내에 있는지 확인\n",
    "                        if 0 <= adjusted_x < crop_w and 0 <= adjusted_y < crop_h:\n",
    "                            adjusted_points.append([adjusted_x, adjusted_y])\n",
    "                        else:\n",
    "                            # 포인트가 크롭 영역 밖이면 필요에 따라 처리 (예: 무시하거나 클리핑)\n",
    "                            pass\n",
    "                    if adjusted_points:\n",
    "                        annotation[\"points\"] = adjusted_points\n",
    "                    else:\n",
    "                        # 모든 포인트가 크롭 영역 밖이면 annotation을 제거하거나 처리\n",
    "                        annotation[\"points\"] = []\n",
    "\n",
    "            # 크롭된 JSON 파일 저장\n",
    "            cropped_json_path = os.path.join(target_json_folder, json_filename)\n",
    "            try:\n",
    "                with open(cropped_json_path, 'w') as f:\n",
    "                    json.dump(json_data, f, indent=4)\n",
    "            except Exception as e:\n",
    "                print(f\"Failed to save cropped JSON file: {cropped_json_path}, Error: {e}\")\n",
    "\n",
    "            # 크롭된 이미지 저장\n",
    "            cropped_img_filename = img_file  # 동일한 파일 이름 사용\n",
    "            cropped_img_path = os.path.join(target_image_folder, cropped_img_filename)\n",
    "            try:\n",
    "                if img_file.lower().endswith('.dcm'):\n",
    "                    # DICOM 파일 저장은 복잡할 수 있으므로 여기서는 PNG로 저장\n",
    "                    cropped_img_path = os.path.splitext(cropped_img_path)[0] + '.png'\n",
    "                cv2.imwrite(cropped_img_path, cropped_image)\n",
    "            except Exception as e:\n",
    "                print(f\"Failed to save cropped image: {cropped_img_path}, Error: {e}\")\n",
    "\n",
    "            pbar.update(1)\n",
    "\n",
    "print(\"모든 이미지와 JSON 파일의 크롭이 완료되었습니다.\")"
   ]
  },
  {
   "cell_type": "code",
   "execution_count": null,
   "metadata": {},
   "outputs": [
    {
     "name": "stderr",
     "output_type": "stream",
     "text": [
      "/opt/conda/lib/python3.10/site-packages/tqdm/auto.py:21: TqdmWarning: IProgress not found. Please update jupyter and ipywidgets. See https://ipywidgets.readthedocs.io/en/stable/user_install.html\n",
      "  from .autonotebook import tqdm as notebook_tqdm\n",
      "/opt/conda/lib/python3.10/site-packages/albumentations/__init__.py:13: UserWarning: A new version of Albumentations is available: 1.4.21 (you have 1.4.18). Upgrade using: pip install -U albumentations. To disable automatic update checks, set the environment variable NO_ALBUMENTATIONS_UPDATE to 1.\n",
      "  check_for_updates()\n"
     ]
    },
    {
     "ename": "ModuleNotFoundError",
     "evalue": "No module named 'transform'",
     "output_type": "error",
     "traceback": [
      "\u001b[0;31m---------------------------------------------------------------------------\u001b[0m",
      "\u001b[0;31mModuleNotFoundError\u001b[0m                       Traceback (most recent call last)",
      "Cell \u001b[0;32mIn[15], line 15\u001b[0m\n\u001b[1;32m     12\u001b[0m \u001b[38;5;28;01mfrom\u001b[39;00m \u001b[38;5;21;01mtorch\u001b[39;00m\u001b[38;5;21;01m.\u001b[39;00m\u001b[38;5;21;01mutils\u001b[39;00m\u001b[38;5;21;01m.\u001b[39;00m\u001b[38;5;21;01mdata\u001b[39;00m \u001b[38;5;28;01mimport\u001b[39;00m Dataset\n\u001b[1;32m     13\u001b[0m \u001b[38;5;66;03m# from Dataset.transform import get_transforms\u001b[39;00m\n\u001b[1;32m     14\u001b[0m \u001b[38;5;66;03m# from Dataset.split_dataset.splitdata import split_data\u001b[39;00m\n\u001b[0;32m---> 15\u001b[0m \u001b[38;5;28;01mfrom\u001b[39;00m \u001b[38;5;21;01mtransform\u001b[39;00m \u001b[38;5;28;01mimport\u001b[39;00m get_transforms\n\u001b[1;32m     16\u001b[0m \u001b[38;5;28;01mfrom\u001b[39;00m \u001b[38;5;21;01msplit_dataset\u001b[39;00m\u001b[38;5;21;01m.\u001b[39;00m\u001b[38;5;21;01msplitdata\u001b[39;00m \u001b[38;5;28;01mimport\u001b[39;00m split_data\n\u001b[1;32m     20\u001b[0m \u001b[38;5;28;01mdef\u001b[39;00m \u001b[38;5;21mload_config\u001b[39m(config_path: \u001b[38;5;28mstr\u001b[39m):\n",
      "\u001b[0;31mModuleNotFoundError\u001b[0m: No module named 'transform'"
     ]
    },
    {
     "ename": "",
     "evalue": "",
     "output_type": "error",
     "traceback": [
      "\u001b[1;31m현재 셀 또는 이전 셀에서 코드를 실행하는 동안 Kernel이 충돌했습니다. \n",
      "\u001b[1;31m셀의 코드를 검토하여 가능한 오류 원인을 식별하세요. \n",
      "\u001b[1;31m자세한 내용을 보려면 <a href='https://aka.ms/vscodeJupyterKernelCrash'>여기</a>를 클릭하세요. \n",
      "\u001b[1;31m자세한 내용은 Jupyter <a href='command:jupyter.viewOutput'>로그</a>를 참조하세요."
     ]
    }
   ],
   "source": []
  },
  {
   "cell_type": "code",
   "execution_count": null,
   "metadata": {},
   "outputs": [],
   "source": []
  }
 ],
 "metadata": {
  "kernelspec": {
   "display_name": "base",
   "language": "python",
   "name": "python3"
  },
  "language_info": {
   "codemirror_mode": {
    "name": "ipython",
    "version": 3
   },
   "file_extension": ".py",
   "mimetype": "text/x-python",
   "name": "python",
   "nbconvert_exporter": "python",
   "pygments_lexer": "ipython3",
   "version": "3.10.13"
  }
 },
 "nbformat": 4,
 "nbformat_minor": 2
}
